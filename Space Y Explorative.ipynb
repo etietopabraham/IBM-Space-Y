{
    "cells": [
        {
            "cell_type": "markdown",
            "metadata": {
                "collapsed": true
            },
            "source": "## Space Y Explorative Analysis (Testing Center)"
        },
        {
            "cell_type": "code",
            "execution_count": 1,
            "metadata": {},
            "outputs": [],
            "source": "import pandas as pd"
        },
        {
            "cell_type": "code",
            "execution_count": 2,
            "metadata": {},
            "outputs": [],
            "source": "path = 'https://cf-courses-data.s3.us.cloud-object-storage.appdomain.cloud/IBMDeveloperSkillsNetwork-ML0101EN-SkillUp/labs/ML-FinalAssignment/Weather_Data.csv'"
        },
        {
            "cell_type": "code",
            "execution_count": 3,
            "metadata": {},
            "outputs": [],
            "source": "weather_df = pd.read_csv(path)"
        },
        {
            "cell_type": "code",
            "execution_count": 4,
            "metadata": {},
            "outputs": [
                {
                    "data": {
                        "text/html": "<div>\n<style scoped>\n    .dataframe tbody tr th:only-of-type {\n        vertical-align: middle;\n    }\n\n    .dataframe tbody tr th {\n        vertical-align: top;\n    }\n\n    .dataframe thead th {\n        text-align: right;\n    }\n</style>\n<table border=\"1\" class=\"dataframe\">\n  <thead>\n    <tr style=\"text-align: right;\">\n      <th></th>\n      <th>Date</th>\n      <th>MinTemp</th>\n      <th>MaxTemp</th>\n      <th>Rainfall</th>\n      <th>Evaporation</th>\n      <th>Sunshine</th>\n      <th>WindGustDir</th>\n      <th>WindGustSpeed</th>\n      <th>WindDir9am</th>\n      <th>WindDir3pm</th>\n      <th>...</th>\n      <th>Humidity9am</th>\n      <th>Humidity3pm</th>\n      <th>Pressure9am</th>\n      <th>Pressure3pm</th>\n      <th>Cloud9am</th>\n      <th>Cloud3pm</th>\n      <th>Temp9am</th>\n      <th>Temp3pm</th>\n      <th>RainToday</th>\n      <th>RainTomorrow</th>\n    </tr>\n  </thead>\n  <tbody>\n    <tr>\n      <th>0</th>\n      <td>2/1/2008</td>\n      <td>19.5</td>\n      <td>22.4</td>\n      <td>15.6</td>\n      <td>6.2</td>\n      <td>0.0</td>\n      <td>W</td>\n      <td>41</td>\n      <td>S</td>\n      <td>SSW</td>\n      <td>...</td>\n      <td>92</td>\n      <td>84</td>\n      <td>1017.6</td>\n      <td>1017.4</td>\n      <td>8</td>\n      <td>8</td>\n      <td>20.7</td>\n      <td>20.9</td>\n      <td>Yes</td>\n      <td>Yes</td>\n    </tr>\n    <tr>\n      <th>1</th>\n      <td>2/2/2008</td>\n      <td>19.5</td>\n      <td>25.6</td>\n      <td>6.0</td>\n      <td>3.4</td>\n      <td>2.7</td>\n      <td>W</td>\n      <td>41</td>\n      <td>W</td>\n      <td>E</td>\n      <td>...</td>\n      <td>83</td>\n      <td>73</td>\n      <td>1017.9</td>\n      <td>1016.4</td>\n      <td>7</td>\n      <td>7</td>\n      <td>22.4</td>\n      <td>24.8</td>\n      <td>Yes</td>\n      <td>Yes</td>\n    </tr>\n    <tr>\n      <th>2</th>\n      <td>2/3/2008</td>\n      <td>21.6</td>\n      <td>24.5</td>\n      <td>6.6</td>\n      <td>2.4</td>\n      <td>0.1</td>\n      <td>W</td>\n      <td>41</td>\n      <td>ESE</td>\n      <td>ESE</td>\n      <td>...</td>\n      <td>88</td>\n      <td>86</td>\n      <td>1016.7</td>\n      <td>1015.6</td>\n      <td>7</td>\n      <td>8</td>\n      <td>23.5</td>\n      <td>23.0</td>\n      <td>Yes</td>\n      <td>Yes</td>\n    </tr>\n    <tr>\n      <th>3</th>\n      <td>2/4/2008</td>\n      <td>20.2</td>\n      <td>22.8</td>\n      <td>18.8</td>\n      <td>2.2</td>\n      <td>0.0</td>\n      <td>W</td>\n      <td>41</td>\n      <td>NNE</td>\n      <td>E</td>\n      <td>...</td>\n      <td>83</td>\n      <td>90</td>\n      <td>1014.2</td>\n      <td>1011.8</td>\n      <td>8</td>\n      <td>8</td>\n      <td>21.4</td>\n      <td>20.9</td>\n      <td>Yes</td>\n      <td>Yes</td>\n    </tr>\n    <tr>\n      <th>4</th>\n      <td>2/5/2008</td>\n      <td>19.7</td>\n      <td>25.7</td>\n      <td>77.4</td>\n      <td>4.8</td>\n      <td>0.0</td>\n      <td>W</td>\n      <td>41</td>\n      <td>NNE</td>\n      <td>W</td>\n      <td>...</td>\n      <td>88</td>\n      <td>74</td>\n      <td>1008.3</td>\n      <td>1004.8</td>\n      <td>8</td>\n      <td>8</td>\n      <td>22.5</td>\n      <td>25.5</td>\n      <td>Yes</td>\n      <td>Yes</td>\n    </tr>\n    <tr>\n      <th>...</th>\n      <td>...</td>\n      <td>...</td>\n      <td>...</td>\n      <td>...</td>\n      <td>...</td>\n      <td>...</td>\n      <td>...</td>\n      <td>...</td>\n      <td>...</td>\n      <td>...</td>\n      <td>...</td>\n      <td>...</td>\n      <td>...</td>\n      <td>...</td>\n      <td>...</td>\n      <td>...</td>\n      <td>...</td>\n      <td>...</td>\n      <td>...</td>\n      <td>...</td>\n      <td>...</td>\n    </tr>\n    <tr>\n      <th>3266</th>\n      <td>6/21/2017</td>\n      <td>8.6</td>\n      <td>19.6</td>\n      <td>0.0</td>\n      <td>2.0</td>\n      <td>7.8</td>\n      <td>SSE</td>\n      <td>37</td>\n      <td>W</td>\n      <td>SSE</td>\n      <td>...</td>\n      <td>73</td>\n      <td>52</td>\n      <td>1025.9</td>\n      <td>1025.3</td>\n      <td>2</td>\n      <td>2</td>\n      <td>10.5</td>\n      <td>17.9</td>\n      <td>No</td>\n      <td>No</td>\n    </tr>\n    <tr>\n      <th>3267</th>\n      <td>6/22/2017</td>\n      <td>9.3</td>\n      <td>19.2</td>\n      <td>0.0</td>\n      <td>2.0</td>\n      <td>9.2</td>\n      <td>W</td>\n      <td>30</td>\n      <td>W</td>\n      <td>ESE</td>\n      <td>...</td>\n      <td>78</td>\n      <td>53</td>\n      <td>1028.5</td>\n      <td>1024.6</td>\n      <td>2</td>\n      <td>2</td>\n      <td>11.0</td>\n      <td>18.7</td>\n      <td>No</td>\n      <td>No</td>\n    </tr>\n    <tr>\n      <th>3268</th>\n      <td>6/23/2017</td>\n      <td>9.4</td>\n      <td>17.7</td>\n      <td>0.0</td>\n      <td>2.4</td>\n      <td>2.7</td>\n      <td>W</td>\n      <td>24</td>\n      <td>WNW</td>\n      <td>N</td>\n      <td>...</td>\n      <td>85</td>\n      <td>56</td>\n      <td>1020.8</td>\n      <td>1015.0</td>\n      <td>6</td>\n      <td>6</td>\n      <td>10.2</td>\n      <td>17.3</td>\n      <td>No</td>\n      <td>No</td>\n    </tr>\n    <tr>\n      <th>3269</th>\n      <td>6/24/2017</td>\n      <td>10.1</td>\n      <td>19.3</td>\n      <td>0.0</td>\n      <td>1.4</td>\n      <td>9.3</td>\n      <td>W</td>\n      <td>43</td>\n      <td>W</td>\n      <td>W</td>\n      <td>...</td>\n      <td>56</td>\n      <td>35</td>\n      <td>1017.3</td>\n      <td>1015.1</td>\n      <td>5</td>\n      <td>2</td>\n      <td>12.4</td>\n      <td>19.0</td>\n      <td>No</td>\n      <td>No</td>\n    </tr>\n    <tr>\n      <th>3270</th>\n      <td>6/25/2017</td>\n      <td>7.6</td>\n      <td>19.3</td>\n      <td>0.0</td>\n      <td>3.4</td>\n      <td>9.4</td>\n      <td>W</td>\n      <td>35</td>\n      <td>W</td>\n      <td>W</td>\n      <td>...</td>\n      <td>73</td>\n      <td>32</td>\n      <td>1018.6</td>\n      <td>1015.4</td>\n      <td>1</td>\n      <td>1</td>\n      <td>9.4</td>\n      <td>18.8</td>\n      <td>No</td>\n      <td>No</td>\n    </tr>\n  </tbody>\n</table>\n<p>3271 rows \u00d7 22 columns</p>\n</div>",
                        "text/plain": "           Date  MinTemp  MaxTemp  Rainfall  Evaporation  Sunshine  \\\n0      2/1/2008     19.5     22.4      15.6          6.2       0.0   \n1      2/2/2008     19.5     25.6       6.0          3.4       2.7   \n2      2/3/2008     21.6     24.5       6.6          2.4       0.1   \n3      2/4/2008     20.2     22.8      18.8          2.2       0.0   \n4      2/5/2008     19.7     25.7      77.4          4.8       0.0   \n...         ...      ...      ...       ...          ...       ...   \n3266  6/21/2017      8.6     19.6       0.0          2.0       7.8   \n3267  6/22/2017      9.3     19.2       0.0          2.0       9.2   \n3268  6/23/2017      9.4     17.7       0.0          2.4       2.7   \n3269  6/24/2017     10.1     19.3       0.0          1.4       9.3   \n3270  6/25/2017      7.6     19.3       0.0          3.4       9.4   \n\n     WindGustDir  WindGustSpeed WindDir9am WindDir3pm  ...  Humidity9am  \\\n0              W             41          S        SSW  ...           92   \n1              W             41          W          E  ...           83   \n2              W             41        ESE        ESE  ...           88   \n3              W             41        NNE          E  ...           83   \n4              W             41        NNE          W  ...           88   \n...          ...            ...        ...        ...  ...          ...   \n3266         SSE             37          W        SSE  ...           73   \n3267           W             30          W        ESE  ...           78   \n3268           W             24        WNW          N  ...           85   \n3269           W             43          W          W  ...           56   \n3270           W             35          W          W  ...           73   \n\n      Humidity3pm  Pressure9am  Pressure3pm  Cloud9am  Cloud3pm  Temp9am  \\\n0              84       1017.6       1017.4         8         8     20.7   \n1              73       1017.9       1016.4         7         7     22.4   \n2              86       1016.7       1015.6         7         8     23.5   \n3              90       1014.2       1011.8         8         8     21.4   \n4              74       1008.3       1004.8         8         8     22.5   \n...           ...          ...          ...       ...       ...      ...   \n3266           52       1025.9       1025.3         2         2     10.5   \n3267           53       1028.5       1024.6         2         2     11.0   \n3268           56       1020.8       1015.0         6         6     10.2   \n3269           35       1017.3       1015.1         5         2     12.4   \n3270           32       1018.6       1015.4         1         1      9.4   \n\n      Temp3pm  RainToday  RainTomorrow  \n0        20.9        Yes           Yes  \n1        24.8        Yes           Yes  \n2        23.0        Yes           Yes  \n3        20.9        Yes           Yes  \n4        25.5        Yes           Yes  \n...       ...        ...           ...  \n3266     17.9         No            No  \n3267     18.7         No            No  \n3268     17.3         No            No  \n3269     19.0         No            No  \n3270     18.8         No            No  \n\n[3271 rows x 22 columns]"
                    },
                    "execution_count": 4,
                    "metadata": {},
                    "output_type": "execute_result"
                }
            ],
            "source": "weather_df"
        },
        {
            "cell_type": "code",
            "execution_count": null,
            "metadata": {},
            "outputs": [],
            "source": "# Note; I've not loaded our data yet. Still figuring out how to load on IBM\n# But, below link is the Google Drive Path"
        },
        {
            "cell_type": "code",
            "execution_count": 5,
            "metadata": {},
            "outputs": [],
            "source": "jobs_data_path = 'https://docs.google.com/spreadsheets/d/1EYNgpJasAX0YhDbfhzTU76rix5PnAoO7CEgyW-DSI7Y/edit?usp=sharing'"
        },
        {
            "cell_type": "code",
            "execution_count": null,
            "metadata": {},
            "outputs": [],
            "source": ""
        },
        {
            "cell_type": "code",
            "execution_count": null,
            "metadata": {},
            "outputs": [],
            "source": ""
        }
    ],
    "metadata": {
        "kernelspec": {
            "display_name": "Python 3.10",
            "language": "python",
            "name": "python3"
        },
        "language_info": {
            "codemirror_mode": {
                "name": "ipython",
                "version": 3
            },
            "file_extension": ".py",
            "mimetype": "text/x-python",
            "name": "python",
            "nbconvert_exporter": "python",
            "pygments_lexer": "ipython3",
            "version": "3.10.9"
        }
    },
    "nbformat": 4,
    "nbformat_minor": 1
}